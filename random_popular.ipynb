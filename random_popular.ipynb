{
 "cells": [
  {
   "cell_type": "markdown",
   "metadata": {},
   "source": [
    "Importaciones y abrir OpernDS.csv (Tabla necesaria del dataset para estos métodos)"
   ]
  },
  {
   "cell_type": "code",
   "execution_count": 82,
   "metadata": {},
   "outputs": [],
   "source": [
    "import pandas as pd\n",
    "import random \n",
    "\n",
    "\n",
    "random.seed(42) \n",
    "\n",
    "record_ds = pd.read_csv('recordDS.csv')  \n",
    "opern_data = pd.read_csv('OpernDS.csv')  "
   ]
  },
  {
   "cell_type": "markdown",
   "metadata": {},
   "source": [
    "Método Random"
   ]
  },
  {
   "cell_type": "code",
   "execution_count": 83,
   "metadata": {},
   "outputs": [
    {
     "name": "stdout",
     "output_type": "stream",
     "text": [
      "Partitura seleccionada al azar:\n",
      "opern_id: 255\n",
      "book_id: 0\n",
      "exe_num: 466\n",
      "avg_score: 73.65836909871246\n"
     ]
    }
   ],
   "source": [
    "def random_sheet_music(data):\n",
    "    # Se Selecciona una partitura aleatoria y se retorna un objeto con los atributos de la partitura\n",
    "    random_row = data.sample(1).iloc[0]\n",
    "    return {\n",
    "        \"opern_id\": random_row['opern_id'],\n",
    "        \"book_id\": random_row['book_id'],\n",
    "        \"exe_num\": random_row['exe_num'],\n",
    "        \"avg_score\": random_row['avg_score']\n",
    "    }\n",
    "\n",
    "# Se selecciona una partitura al azar\n",
    "random_sheet = random_sheet_music(opern_data)\n",
    "print(\"Partitura seleccionada al azar:\")\n",
    "for key, value in random_sheet.items():\n",
    "    print(f\"{key}: {value}\")\n"
   ]
  },
  {
   "cell_type": "markdown",
   "metadata": {},
   "source": [
    "Método Most Popular"
   ]
  },
  {
   "cell_type": "code",
   "execution_count": 84,
   "metadata": {},
   "outputs": [
    {
     "name": "stdout",
     "output_type": "stream",
     "text": [
      "Partituras más populares:\n",
      "    opern_id  book_id  exe_num  avg_score\n",
      "0        250        0     1747  67.701145\n",
      "22       272        1     1543  70.250162\n",
      "3        253        0     1225  73.169224\n",
      "23       273        1     1220  71.026066\n",
      "1        251        0      916  72.238210\n"
     ]
    }
   ],
   "source": [
    "def most_popular_sheets(data, top_n=5):\n",
    "    # Obtener las partituras más populares en función de la cantidad de veces que ha sido practicada\n",
    "    # que se obtiene de la columna 'exe_num'    \n",
    "    popular_sheets = data.sort_values(by='exe_num', ascending=False).head(top_n)\n",
    "    return popular_sheets[['opern_id', 'book_id', 'exe_num', 'avg_score']]\n",
    "\n",
    "\n",
    "popular_sheets = most_popular_sheets(opern_data, top_n=5)\n",
    "\n",
    "print(\"Partituras más populares:\")\n",
    "print(popular_sheets)\n",
    "\n"
   ]
  },
  {
   "cell_type": "code",
   "execution_count": 85,
   "metadata": {},
   "outputs": [
    {
     "name": "stdout",
     "output_type": "stream",
     "text": [
      "Ground Truth:\n",
      "   user_id  opern_id\n",
      "1      467       272\n",
      "3      467       276\n",
      "5      467       283\n",
      "6      472       279\n",
      "7      472       274\n"
     ]
    }
   ],
   "source": [
    "record_ds['interacted'] = record_ds['qa_array'].apply(lambda x: any(q[1] == 1 for q in eval(x)))  # Convertir qa_array de string a lista\n",
    "\n",
    "# Filtrar las filas donde el estudiante ha interactuado\n",
    "ground_truth = record_ds[record_ds['interacted']][['user_id', 'opern_id']].drop_duplicates()\n",
    "\n",
    "print(\"Ground Truth:\")\n",
    "print(ground_truth.head())"
   ]
  },
  {
   "cell_type": "code",
   "execution_count": 86,
   "metadata": {},
   "outputs": [
    {
     "name": "stdout",
     "output_type": "stream",
     "text": [
      "Recomendaciones Aleatorias:\n",
      "    opern_id  predicted\n",
      "37       289          1\n",
      "24       274          1\n",
      "25       275          1\n",
      "36       288          1\n",
      "34       286          1\n",
      "39       291          1\n",
      "4        254          1\n",
      "12       262          1\n",
      "8        258          1\n",
      "3        253          1\n",
      "Recomendaciones Más Populares:\n",
      "    opern_id  predicted\n",
      "0        250          1\n",
      "22       272          1\n",
      "3        253          1\n",
      "23       273          1\n",
      "1        251          1\n",
      "2        252          1\n",
      "4        254          1\n",
      "24       274          1\n",
      "7        257          1\n",
      "6        256          1\n"
     ]
    }
   ],
   "source": [
    "# Crear recomendaciones aleatorias (se seleccionan 10 partituras aleatorias)\n",
    "random_recommendations = opern_data.sample(n=10, random_state=42)\n",
    "random_recommendations['predicted'] = 1\n",
    "\n",
    "# Crear recomendaciones más populares (top 10 partituras con más ejecuciones)\n",
    "most_popular_recommendations = opern_data.nlargest(10, 'exe_num')\n",
    "most_popular_recommendations['predicted'] = 1\n",
    "\n",
    "print(\"Recomendaciones Aleatorias:\")\n",
    "print(random_recommendations[['opern_id', 'predicted']])\n",
    "\n",
    "print(\"Recomendaciones Más Populares:\")\n",
    "print(most_popular_recommendations[['opern_id', 'predicted']])\n"
   ]
  },
  {
   "cell_type": "code",
   "execution_count": 87,
   "metadata": {},
   "outputs": [],
   "source": [
    "interaction_dict = record_ds.apply(lambda row: (row['user_id'], row['opern_id'], any(q[1] == 1 for q in eval(row['qa_array']))), axis=1)\n",
    "interaction_dict = dict(((user_id, opern_id), interacted) for user_id, opern_id, interacted in interaction_dict)\n",
    "\n",
    "ground_truth['interacted'] = ground_truth.apply(\n",
    "    lambda row: 1 if interaction_dict.get((row['user_id'], row['opern_id']), 0) else 0, axis=1\n",
    ")"
   ]
  },
  {
   "cell_type": "code",
   "execution_count": 88,
   "metadata": {},
   "outputs": [
    {
     "name": "stdout",
     "output_type": "stream",
     "text": [
      "Métricas Random: {'Recall': 0.24622665643387057, 'Precision': 0.940400586223742, 'F1 Score': 0.39026862645717186, 'AUC': 0.4976005197988459}\n",
      "Métricas Most Popular: {'Recall': 0.44499872090048603, 'Precision': 0.927486003732338, 'F1 Score': 0.60143486904659, 'AUC': 0.4810329939682597}\n"
     ]
    }
   ],
   "source": [
    "def calculate_metrics(ground_truth, recommendations):\n",
    "    merged = pd.merge(ground_truth, recommendations, on='opern_id', how='left')\n",
    "    \n",
    "    # Se asigna 0 para no interactuado y no recomendado\n",
    "    y_true = merged['interacted'].fillna(0)  \n",
    "    y_pred = merged['predicted'].fillna(0)  \n",
    "    \n",
    "    # Cálculo de Precision, Recall, F1-Score\n",
    "    TP = sum((y_true == 1) & (y_pred == 1))  # Verdaderos positivos\n",
    "    FP = sum((y_true == 0) & (y_pred == 1))  # Falsos positivos\n",
    "    FN = sum((y_true == 1) & (y_pred == 0))  # Falsos negativos\n",
    "    TN = sum((y_true == 0) & (y_pred == 0))  # Verdaderos negativos\n",
    "    \n",
    "    # Precision\n",
    "    precision = TP / (TP + FP) if (TP + FP) != 0 else 0\n",
    "    \n",
    "    # Recall\n",
    "    recall = TP / (TP + FN) if (TP + FN) != 0 else 0\n",
    "    \n",
    "    # F1-Score\n",
    "    f1 = 2 * (precision * recall) / (precision + recall) if (precision + recall) != 0 else 0\n",
    "    \n",
    "    # AUC\n",
    "    sorted_indices = sorted(range(len(y_pred)), key=lambda i: y_pred[i], reverse=True)\n",
    "    sorted_y_true = [y_true[i] for i in sorted_indices]\n",
    "    sorted_y_pred = [y_pred[i] for i in sorted_indices]\n",
    "    \n",
    "    # Se inicializan los valores de la tasa de verdaderos positivos (TPR) y falsos positivos (FPR)\n",
    "    tpr = [0]  # True positive rate\n",
    "    fpr = [0]  # False positive rate\n",
    "    for i in range(1, len(sorted_y_true)):\n",
    "        tp = sum(1 for j in range(i) if sorted_y_true[j] == 1)\n",
    "        fp = sum(1 for j in range(i) if sorted_y_true[j] == 0)\n",
    "        tpr.append(tp / (sum(1 for j in range(len(sorted_y_true)) if sorted_y_true[j] == 1)))\n",
    "        fpr.append(fp / (sum(1 for j in range(len(sorted_y_true)) if sorted_y_true[j] == 0)))\n",
    "    \n",
    "    # Cálculo de AUC \n",
    "    auc = 0\n",
    "    for i in range(1, len(tpr)):\n",
    "        auc += (fpr[i] - fpr[i - 1]) * (tpr[i] + tpr[i - 1]) / 2\n",
    "    \n",
    "    return {\n",
    "        \"Recall\": recall,\n",
    "        \"Precision\": precision,\n",
    "        \"F1 Score\": f1,\n",
    "        \"AUC\": auc\n",
    "    }\n",
    "\n",
    "# Calculo de las métricas\n",
    "random_metrics = calculate_metrics(ground_truth, random_recommendations)\n",
    "popular_metrics = calculate_metrics(ground_truth, most_popular_recommendations)\n",
    "\n",
    "print(\"Métricas Random:\", random_metrics)\n",
    "print(\"Métricas Most Popular:\", popular_metrics)\n"
   ]
  }
 ],
 "metadata": {
  "kernelspec": {
   "display_name": "Python 3",
   "language": "python",
   "name": "python3"
  },
  "language_info": {
   "codemirror_mode": {
    "name": "ipython",
    "version": 3
   },
   "file_extension": ".py",
   "mimetype": "text/x-python",
   "name": "python",
   "nbconvert_exporter": "python",
   "pygments_lexer": "ipython3",
   "version": "3.11.8"
  }
 },
 "nbformat": 4,
 "nbformat_minor": 2
}
